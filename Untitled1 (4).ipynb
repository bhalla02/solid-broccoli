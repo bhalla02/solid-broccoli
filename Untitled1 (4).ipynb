{
 "cells": [
  {
   "cell_type": "markdown",
   "id": "fb241109-3975-403f-9526-2d723ff3b579",
   "metadata": {},
   "source": [
    "Q1\n",
    "Min-Max scaling, also known as normalization, scales the features of a dataset to a fixed range, typically [0, 1]. It's done by subtracting the minimum value of the feature and then dividing by the range (max value - min value). This ensures that all features have the same scale.\n",
    "Example: Suppose you have a feature \"Age\" ranging from 20 to 60. After Min-Max scaling, it would be transformed to a range of [0, 1], where 20 becomes 0 and 60 becomes 1.\n"
   ]
  },
  {
   "cell_type": "markdown",
   "id": "3cd56b1d-e0cb-4837-97c1-a1be619fbd31",
   "metadata": {},
   "source": [
    "Q2\n",
    "The Unit Vector technique, also known as normalization or vector normalization, scales each feature to have a unit norm, typically L2 norm (Euclidean norm). It divides each feature vector by its magnitude to ensure that all feature vectors have a length of 1.\n",
    "Example: Suppose you have a feature vector [3, 4]. After Unit Vector scaling, it becomes [0.6, 0.8]."
   ]
  },
  {
   "cell_type": "markdown",
   "id": "91242d71-5589-468f-b060-db1e8d85a702",
   "metadata": {},
   "source": [
    "Q3\n",
    "PCA is a dimensionality reduction technique that transforms high-dimensional data into a lower-dimensional representation by finding the principal components, which are the orthogonal directions of maximum variance in the data. It's commonly used to reduce the number of features while retaining most of the variance in the data.\n",
    "Example: Suppose you have a dataset with multiple correlated features representing different aspects of a problem. PCA can be used to transform these features into a smaller set of uncorrelated principal components that capture most of the variability in the data."
   ]
  },
  {
   "cell_type": "markdown",
   "id": "9719a6f5-bbc2-4926-bdc9-0bb85d49c371",
   "metadata": {},
   "source": [
    "Q4\n",
    "PCA can be considered a form of feature extraction because it transforms the original features into a new set of features (principal components) that are linear combinations of the original features. These new features are uncorrelated and capture most of the variance in the data.\n",
    "Example: In a dataset with features like height, weight, and age, PCA can extract principal components that represent combinations of these features, such as overall body size or health status."
   ]
  },
  {
   "cell_type": "markdown",
   "id": "742471c1-66a2-4118-9f3e-908a5c32ff9a",
   "metadata": {},
   "source": [
    "Q5\n",
    "n this scenario, Min-Max scaling would be applied to each feature independently to transform their values to a common range, such as [0, 1]. This ensures that features with different scales contribute equally to the analysis. For example, the price, rating, and delivery time features would be scaled to ranges based on their minimum and maximum values."
   ]
  },
  {
   "cell_type": "markdown",
   "id": "3822e264-95d3-46da-ab6d-70a2f074a9f8",
   "metadata": {},
   "source": [
    "Q6\n",
    "PCA would be applied to the dataset to identify the principal components that capture the most significant sources of variation in the stock data. By retaining a subset of these principal components, the dimensionality of the dataset can be reduced while preserving most of the information necessary for predicting stock prices."
   ]
  },
  {
   "cell_type": "code",
   "execution_count": null,
   "id": "96abea4e-31ec-4131-ad73-e25cfea065b4",
   "metadata": {},
   "outputs": [],
   "source": [
    "Q7\n"
   ]
  }
 ],
 "metadata": {
  "kernelspec": {
   "display_name": "Python 3 (ipykernel)",
   "language": "python",
   "name": "python3"
  },
  "language_info": {
   "codemirror_mode": {
    "name": "ipython",
    "version": 3
   },
   "file_extension": ".py",
   "mimetype": "text/x-python",
   "name": "python",
   "nbconvert_exporter": "python",
   "pygments_lexer": "ipython3",
   "version": "3.10.8"
  }
 },
 "nbformat": 4,
 "nbformat_minor": 5
}
